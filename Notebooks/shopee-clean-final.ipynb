{
 "cells": [
  {
   "cell_type": "code",
   "execution_count": null,
   "id": "95dd5e2b-5e45-43b0-8972-2b8f5e48e9b0",
   "metadata": {},
   "outputs": [],
   "source": [
    "import pandas as pd\n",
    "import numpy as np"
   ]
  },
  {
   "cell_type": "code",
   "execution_count": null,
   "id": "7124500c-967c-4434-92a1-856effb5f8ff",
   "metadata": {},
   "outputs": [],
   "source": [
    "df = pd.read_csv('shopee.csv')"
   ]
  },
  {
   "cell_type": "code",
   "execution_count": null,
   "id": "e3568978-2008-4f25-b1df-c7c371a869e0",
   "metadata": {},
   "outputs": [],
   "source": [
    "df.head(5)"
   ]
  },
  {
   "cell_type": "code",
   "execution_count": null,
   "id": "093cb0f1-3664-46ad-8eb0-50c507d06563",
   "metadata": {},
   "outputs": [],
   "source": [
    "current_rate = 13.10\n",
    "df['original_price'] = df['price_ori'] * current_rate \n",
    "df['final_price'] = df['price_actual'] * current_rate"
   ]
  },
  {
   "cell_type": "code",
   "execution_count": null,
   "id": "7b3c58c8-0e00-4716-941a-8ff1d26d7b60",
   "metadata": {},
   "outputs": [],
   "source": [
    "df.columns"
   ]
  },
  {
   "cell_type": "code",
   "execution_count": null,
   "id": "1b456fa3-aa88-4da1-a5bd-f09d3f3a2477",
   "metadata": {},
   "outputs": [],
   "source": [
    "df[['category_1', 'category_2', 'category_3']] = df['item_category_detail'].str.replace(\"Shopee | \", \"\").str.split('|', expand=True)"
   ]
  },
  {
   "cell_type": "code",
   "execution_count": null,
   "id": "fff01ae1-75ff-4dc9-8536-2b147e47f0ef",
   "metadata": {},
   "outputs": [],
   "source": [
    "df['specification'] = df['specification'].str.replace(\"Product Specifications Category Shopee \", \"\")"
   ]
  },
  {
   "cell_type": "code",
   "execution_count": null,
   "id": "0b38a96e-e9e3-41d6-ba94-bf8f74553949",
   "metadata": {},
   "outputs": [],
   "source": [
    "df['item_rating'] = pd.to_numeric(df['item_rating'], errors='coerce')"
   ]
  },
  {
   "cell_type": "code",
   "execution_count": null,
   "id": "1e8b9d95-4f2d-46ad-b917-5207e3f62b9b",
   "metadata": {},
   "outputs": [],
   "source": [
    "df['count_rating'] = df['total_rating'].str.replace(r'(\\d+(\\.\\d+)?)k$', lambda x: str(float(x.group(1)) * 1000), regex=True).astype(float)\n",
    "\n",
    "df['total_sold'] = df['total_sold'].str.replace(r'(\\d+(\\.\\d+)?)k$', lambda x: str(float(x.group(1)) * 1000), regex=True).astype(float)\n",
    "\n",
    "df['favorite'] = df['favorite'].str.replace('Favorite (',\"\")\n",
    "df['favorite'] = df['favorite'].replace('label_favorite', 'N/A')\n",
    "df['favorite'] = df['favorite'].replace('N/A', np.nan)\n",
    "df['favorite'] = df['favorite'].str.replace(r'(\\d+(\\.\\d+)?)k$', lambda x: str(float(x.group(1)) * 1000), regex=True).astype(float)"
   ]
  },
  {
   "cell_type": "code",
   "execution_count": null,
   "id": "52d5b877-5e96-4f03-923f-d3761bf511c8",
   "metadata": {},
   "outputs": [],
   "source": [
    "df = df.drop(['delivery', 'sitename', 'pict_link', 'link_ori', 'desc', 'price_ori', 'price_actual','item_category_detail', 'total_rating', 'w_date'], axis=1)"
   ]
  },
  {
   "cell_type": "code",
   "execution_count": null,
   "id": "214daa03-d47c-4476-ae81-9d4aac05d0cc",
   "metadata": {},
   "outputs": [],
   "source": [
    "df['timestamp'] = pd.to_datetime(df['timestamp'], unit='ms')"
   ]
  },
  {
   "cell_type": "code",
   "execution_count": null,
   "id": "9cd4fb0a-67f4-4a77-bd15-8a39ebab50a5",
   "metadata": {},
   "outputs": [],
   "source": [
    "df = df.fillna(0)"
   ]
  },
  {
   "cell_type": "code",
   "execution_count": null,
   "id": "a46130e5-1407-4699-8995-1092e7501bdd",
   "metadata": {},
   "outputs": [],
   "source": [
    "df['product_origin'] = df['specification'].str.extract(r'From\\s+(.*)$')\n",
    "df['specification'] = df['specification'].str.replace(r'\\s+From\\s+.*$', '', regex=True)"
   ]
  },
  {
   "cell_type": "code",
   "execution_count": null,
   "id": "40c2523d-4080-41f5-9da9-bdf8d2d0f171",
   "metadata": {},
   "outputs": [],
   "source": [
    "df['product_origin'] = df['product_origin'].apply(lambda x: str(x).split()[-1] if pd.notna(x) else x)"
   ]
  },
  {
   "cell_type": "code",
   "execution_count": null,
   "id": "56fe7cd3-414a-411c-98d3-404b35b38db2",
   "metadata": {},
   "outputs": [],
   "source": [
    "mapping = {\n",
    "    \"Sembilan\": \"Negeri Sembilan\",\n",
    "    \"Pinang\": \"Pulau Pinang\",\n",
    "    \"Lumpur\": \"Kuala Lumpur\",\n",
    "    \"ID\": \"Indonesia\"\n",
    "}\n",
    "\n",
    "df['product_origin'] = df['product_origin'].replace(mapping)"
   ]
  },
  {
   "cell_type": "code",
   "execution_count": null,
   "id": "c802ddaf-65da-46ce-9f78-f251500a7683",
   "metadata": {},
   "outputs": [],
   "source": [
    "# for Market Basket Analysis CSV\n",
    "df['category_hierarchy'] = df[['category_1', 'category_2', 'category_3']]\n",
    "    .apply(lambda x: ' > '.join(x.dropna()), axis=1)\n",
    "df = df.drop(['category_1', 'category_2','category_3'], axis=1)\n",
    "\n",
    "df.to_csv('shopee-category-hierarchy.csv')"
   ]
  },
  {
   "cell_type": "code",
   "execution_count": null,
   "id": "13d07920-cd76-4968-9a6d-ee9dd2a953df",
   "metadata": {},
   "outputs": [],
   "source": [
    "# for predictive model (in case)\n",
    "df[['category_1', 'category_2', 'category_3']] = df['category_hierarchy'].str.split('>', expand=True)\n",
    "df.drop(['category_hierarchy'], axis=1)\n",
    "\n",
    "df.to_csv('shopee-category-separated.csv')"
   ]
  },
  {
   "cell_type": "code",
   "execution_count": null,
   "id": "0e555c01-d371-4514-b740-0053f8b92e63",
   "metadata": {},
   "outputs": [],
   "source": []
  },
  {
   "cell_type": "code",
   "execution_count": null,
   "id": "dac1fe7b-cb0e-4283-b9b2-40b622fe87ec",
   "metadata": {
    "jupyter": {
     "source_hidden": true
    }
   },
   "outputs": [],
   "source": []
  },
  {
   "cell_type": "code",
   "execution_count": null,
   "id": "87cbee0d-b58b-461e-88a1-03ccad900d24",
   "metadata": {},
   "outputs": [],
   "source": []
  },
  {
   "cell_type": "code",
   "execution_count": null,
   "id": "46202b40-f017-4289-a71d-0404700f6f44",
   "metadata": {},
   "outputs": [],
   "source": []
  },
  {
   "cell_type": "code",
   "execution_count": null,
   "id": "d34eb619-0d20-4e97-b5a6-f5b328193ce8",
   "metadata": {},
   "outputs": [],
   "source": []
  },
  {
   "cell_type": "code",
   "execution_count": null,
   "id": "38a14752-2534-4cc1-9d1e-ab1767edd557",
   "metadata": {},
   "outputs": [],
   "source": []
  },
  {
   "cell_type": "code",
   "execution_count": null,
   "id": "c39ac5d3-eece-4079-9e65-62c94fd5fcaf",
   "metadata": {},
   "outputs": [],
   "source": []
  },
  {
   "cell_type": "code",
   "execution_count": null,
   "id": "d400a250-a454-4cd8-a7e1-c97704f906ca",
   "metadata": {},
   "outputs": [],
   "source": []
  }
 ],
 "metadata": {
  "kernelspec": {
   "display_name": "Python 3 (ipykernel)",
   "language": "python",
   "name": "python3"
  },
  "language_info": {
   "codemirror_mode": {
    "name": "ipython",
    "version": 3
   },
   "file_extension": ".py",
   "mimetype": "text/x-python",
   "name": "python",
   "nbconvert_exporter": "python",
   "pygments_lexer": "ipython3",
   "version": "3.9.20"
  }
 },
 "nbformat": 4,
 "nbformat_minor": 5
}
